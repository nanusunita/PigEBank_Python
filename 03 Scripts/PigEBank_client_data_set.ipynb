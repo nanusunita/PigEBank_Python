{
 "cells": [
  {
   "cell_type": "code",
   "execution_count": 1,
   "id": "90705f0f",
   "metadata": {},
   "outputs": [],
   "source": [
    "# Import Libraries\n",
    "import pandas as pd\n",
    "import numpy as np\n",
    "import os"
   ]
  },
  {
   "cell_type": "code",
   "execution_count": 2,
   "id": "6c7dc6af",
   "metadata": {},
   "outputs": [],
   "source": [
    "# Project folder path\n",
    "path = r'C:\\Users\\BhuwanDhakal\\Sunita\\Projects\\2 Data Immersion\\Data Ethics & Applied Analytics\\Exercise 5.4'"
   ]
  },
  {
   "cell_type": "code",
   "execution_count": 3,
   "id": "be6b2c3d",
   "metadata": {},
   "outputs": [
    {
     "data": {
      "text/plain": [
       "'C:\\\\Users\\\\BhuwanDhakal\\\\Sunita\\\\Projects\\\\2 Data Immersion\\\\Data Ethics & Applied Analytics\\\\Exercise 5.4'"
      ]
     },
     "execution_count": 3,
     "metadata": {},
     "output_type": "execute_result"
    }
   ],
   "source": [
    "path"
   ]
  },
  {
   "cell_type": "code",
   "execution_count": 4,
   "id": "f463a013",
   "metadata": {},
   "outputs": [],
   "source": [
    "# Import Data\n",
    "Data= pd.read_excel(os.path.join(path, '5.4-PigEBank-Client-Data set.xlsx'))"
   ]
  },
  {
   "cell_type": "code",
   "execution_count": 5,
   "id": "451b2ac3",
   "metadata": {},
   "outputs": [
    {
     "data": {
      "text/html": [
       "<div>\n",
       "<style scoped>\n",
       "    .dataframe tbody tr th:only-of-type {\n",
       "        vertical-align: middle;\n",
       "    }\n",
       "\n",
       "    .dataframe tbody tr th {\n",
       "        vertical-align: top;\n",
       "    }\n",
       "\n",
       "    .dataframe thead th {\n",
       "        text-align: right;\n",
       "    }\n",
       "</style>\n",
       "<table border=\"1\" class=\"dataframe\">\n",
       "  <thead>\n",
       "    <tr style=\"text-align: right;\">\n",
       "      <th></th>\n",
       "      <th>Row_Number</th>\n",
       "      <th>Customer_ID</th>\n",
       "      <th>Last_Name</th>\n",
       "      <th>Credit Score</th>\n",
       "      <th>Country</th>\n",
       "      <th>Gender</th>\n",
       "      <th>Age</th>\n",
       "      <th>Tenure</th>\n",
       "      <th>Balance</th>\n",
       "      <th>NumOfProducts</th>\n",
       "      <th>HasCrCard?</th>\n",
       "      <th>IsActiveMember</th>\n",
       "      <th>Estimated Salary</th>\n",
       "      <th>ExitedFromBank?</th>\n",
       "    </tr>\n",
       "  </thead>\n",
       "  <tbody>\n",
       "    <tr>\n",
       "      <th>0</th>\n",
       "      <td>1</td>\n",
       "      <td>15634602</td>\n",
       "      <td>Hargrave</td>\n",
       "      <td>619.0</td>\n",
       "      <td>France</td>\n",
       "      <td>Female</td>\n",
       "      <td>42.0</td>\n",
       "      <td>2</td>\n",
       "      <td>0.00</td>\n",
       "      <td>1</td>\n",
       "      <td>1</td>\n",
       "      <td>1</td>\n",
       "      <td>101348.88</td>\n",
       "      <td>1</td>\n",
       "    </tr>\n",
       "    <tr>\n",
       "      <th>1</th>\n",
       "      <td>2</td>\n",
       "      <td>15647311</td>\n",
       "      <td>Hill</td>\n",
       "      <td>608.0</td>\n",
       "      <td>Spain</td>\n",
       "      <td>Female</td>\n",
       "      <td>41.0</td>\n",
       "      <td>1</td>\n",
       "      <td>83807.86</td>\n",
       "      <td>1</td>\n",
       "      <td>0</td>\n",
       "      <td>1</td>\n",
       "      <td>112542.58</td>\n",
       "      <td>0</td>\n",
       "    </tr>\n",
       "    <tr>\n",
       "      <th>2</th>\n",
       "      <td>3</td>\n",
       "      <td>15619304</td>\n",
       "      <td>Onio</td>\n",
       "      <td>502.0</td>\n",
       "      <td>France</td>\n",
       "      <td>Female</td>\n",
       "      <td>42.0</td>\n",
       "      <td>8</td>\n",
       "      <td>159660.80</td>\n",
       "      <td>3</td>\n",
       "      <td>1</td>\n",
       "      <td>0</td>\n",
       "      <td>113931.57</td>\n",
       "      <td>1</td>\n",
       "    </tr>\n",
       "    <tr>\n",
       "      <th>3</th>\n",
       "      <td>4</td>\n",
       "      <td>15701354</td>\n",
       "      <td>Boni</td>\n",
       "      <td>699.0</td>\n",
       "      <td>France</td>\n",
       "      <td>Female</td>\n",
       "      <td>39.0</td>\n",
       "      <td>1</td>\n",
       "      <td>0.00</td>\n",
       "      <td>2</td>\n",
       "      <td>0</td>\n",
       "      <td>0</td>\n",
       "      <td>93826.63</td>\n",
       "      <td>0</td>\n",
       "    </tr>\n",
       "    <tr>\n",
       "      <th>4</th>\n",
       "      <td>5</td>\n",
       "      <td>15737888</td>\n",
       "      <td>Mitchell</td>\n",
       "      <td>850.0</td>\n",
       "      <td>Spain</td>\n",
       "      <td>Female</td>\n",
       "      <td>43.0</td>\n",
       "      <td>2</td>\n",
       "      <td>125510.82</td>\n",
       "      <td>1</td>\n",
       "      <td>1</td>\n",
       "      <td>1</td>\n",
       "      <td>79084.10</td>\n",
       "      <td>0</td>\n",
       "    </tr>\n",
       "  </tbody>\n",
       "</table>\n",
       "</div>"
      ],
      "text/plain": [
       "   Row_Number  Customer_ID Last_Name  Credit Score Country  Gender   Age  \\\n",
       "0           1     15634602  Hargrave         619.0  France  Female  42.0   \n",
       "1           2     15647311      Hill         608.0   Spain  Female  41.0   \n",
       "2           3     15619304      Onio         502.0  France  Female  42.0   \n",
       "3           4     15701354      Boni         699.0  France  Female  39.0   \n",
       "4           5     15737888  Mitchell         850.0   Spain  Female  43.0   \n",
       "\n",
       "   Tenure    Balance  NumOfProducts  HasCrCard?  IsActiveMember  \\\n",
       "0       2       0.00              1           1               1   \n",
       "1       1   83807.86              1           0               1   \n",
       "2       8  159660.80              3           1               0   \n",
       "3       1       0.00              2           0               0   \n",
       "4       2  125510.82              1           1               1   \n",
       "\n",
       "   Estimated Salary  ExitedFromBank?  \n",
       "0         101348.88                1  \n",
       "1         112542.58                0  \n",
       "2         113931.57                1  \n",
       "3          93826.63                0  \n",
       "4          79084.10                0  "
      ]
     },
     "execution_count": 5,
     "metadata": {},
     "output_type": "execute_result"
    }
   ],
   "source": [
    "Data.head()"
   ]
  },
  {
   "cell_type": "code",
   "execution_count": 6,
   "id": "9639daf8",
   "metadata": {},
   "outputs": [
    {
     "data": {
      "text/plain": [
       "(991, 14)"
      ]
     },
     "execution_count": 6,
     "metadata": {},
     "output_type": "execute_result"
    }
   ],
   "source": [
    "# Checking the number of rowa and column before cleaning\n",
    "Data.shape"
   ]
  },
  {
   "cell_type": "code",
   "execution_count": 7,
   "id": "99534f57",
   "metadata": {},
   "outputs": [
    {
     "data": {
      "text/html": [
       "<div>\n",
       "<style scoped>\n",
       "    .dataframe tbody tr th:only-of-type {\n",
       "        vertical-align: middle;\n",
       "    }\n",
       "\n",
       "    .dataframe tbody tr th {\n",
       "        vertical-align: top;\n",
       "    }\n",
       "\n",
       "    .dataframe thead th {\n",
       "        text-align: right;\n",
       "    }\n",
       "</style>\n",
       "<table border=\"1\" class=\"dataframe\">\n",
       "  <thead>\n",
       "    <tr style=\"text-align: right;\">\n",
       "      <th></th>\n",
       "      <th>Row_Number</th>\n",
       "      <th>Customer_ID</th>\n",
       "      <th>Credit Score</th>\n",
       "      <th>Age</th>\n",
       "      <th>Tenure</th>\n",
       "      <th>Balance</th>\n",
       "      <th>NumOfProducts</th>\n",
       "      <th>HasCrCard?</th>\n",
       "      <th>IsActiveMember</th>\n",
       "      <th>Estimated Salary</th>\n",
       "      <th>ExitedFromBank?</th>\n",
       "    </tr>\n",
       "  </thead>\n",
       "  <tbody>\n",
       "    <tr>\n",
       "      <th>count</th>\n",
       "      <td>991.00000</td>\n",
       "      <td>9.910000e+02</td>\n",
       "      <td>988.000000</td>\n",
       "      <td>990.000000</td>\n",
       "      <td>991.000000</td>\n",
       "      <td>991.000000</td>\n",
       "      <td>991.000000</td>\n",
       "      <td>991.000000</td>\n",
       "      <td>991.000000</td>\n",
       "      <td>989.000000</td>\n",
       "      <td>991.000000</td>\n",
       "    </tr>\n",
       "    <tr>\n",
       "      <th>mean</th>\n",
       "      <td>496.00000</td>\n",
       "      <td>1.569232e+07</td>\n",
       "      <td>648.512146</td>\n",
       "      <td>38.684848</td>\n",
       "      <td>5.066599</td>\n",
       "      <td>78002.718063</td>\n",
       "      <td>1.522704</td>\n",
       "      <td>0.706357</td>\n",
       "      <td>0.507568</td>\n",
       "      <td>98574.543013</td>\n",
       "      <td>0.205853</td>\n",
       "    </tr>\n",
       "    <tr>\n",
       "      <th>std</th>\n",
       "      <td>286.22136</td>\n",
       "      <td>7.223333e+04</td>\n",
       "      <td>98.202853</td>\n",
       "      <td>10.958220</td>\n",
       "      <td>2.928371</td>\n",
       "      <td>62799.237345</td>\n",
       "      <td>0.573170</td>\n",
       "      <td>0.455660</td>\n",
       "      <td>0.500195</td>\n",
       "      <td>57224.716446</td>\n",
       "      <td>0.404527</td>\n",
       "    </tr>\n",
       "    <tr>\n",
       "      <th>min</th>\n",
       "      <td>1.00000</td>\n",
       "      <td>1.556609e+07</td>\n",
       "      <td>376.000000</td>\n",
       "      <td>2.000000</td>\n",
       "      <td>0.000000</td>\n",
       "      <td>0.000000</td>\n",
       "      <td>1.000000</td>\n",
       "      <td>0.000000</td>\n",
       "      <td>0.000000</td>\n",
       "      <td>371.050000</td>\n",
       "      <td>0.000000</td>\n",
       "    </tr>\n",
       "    <tr>\n",
       "      <th>25%</th>\n",
       "      <td>248.50000</td>\n",
       "      <td>1.563019e+07</td>\n",
       "      <td>579.750000</td>\n",
       "      <td>32.000000</td>\n",
       "      <td>2.000000</td>\n",
       "      <td>0.000000</td>\n",
       "      <td>1.000000</td>\n",
       "      <td>0.000000</td>\n",
       "      <td>0.000000</td>\n",
       "      <td>48559.190000</td>\n",
       "      <td>0.000000</td>\n",
       "    </tr>\n",
       "    <tr>\n",
       "      <th>50%</th>\n",
       "      <td>496.00000</td>\n",
       "      <td>1.569275e+07</td>\n",
       "      <td>653.500000</td>\n",
       "      <td>37.000000</td>\n",
       "      <td>5.000000</td>\n",
       "      <td>98668.180000</td>\n",
       "      <td>1.000000</td>\n",
       "      <td>1.000000</td>\n",
       "      <td>1.000000</td>\n",
       "      <td>98368.240000</td>\n",
       "      <td>0.000000</td>\n",
       "    </tr>\n",
       "    <tr>\n",
       "      <th>75%</th>\n",
       "      <td>743.50000</td>\n",
       "      <td>1.575379e+07</td>\n",
       "      <td>721.000000</td>\n",
       "      <td>44.000000</td>\n",
       "      <td>8.000000</td>\n",
       "      <td>129461.850000</td>\n",
       "      <td>2.000000</td>\n",
       "      <td>1.000000</td>\n",
       "      <td>1.000000</td>\n",
       "      <td>146326.450000</td>\n",
       "      <td>0.000000</td>\n",
       "    </tr>\n",
       "    <tr>\n",
       "      <th>max</th>\n",
       "      <td>991.00000</td>\n",
       "      <td>1.581536e+07</td>\n",
       "      <td>850.000000</td>\n",
       "      <td>82.000000</td>\n",
       "      <td>10.000000</td>\n",
       "      <td>213146.200000</td>\n",
       "      <td>4.000000</td>\n",
       "      <td>1.000000</td>\n",
       "      <td>1.000000</td>\n",
       "      <td>199725.390000</td>\n",
       "      <td>1.000000</td>\n",
       "    </tr>\n",
       "  </tbody>\n",
       "</table>\n",
       "</div>"
      ],
      "text/plain": [
       "       Row_Number   Customer_ID  Credit Score         Age      Tenure  \\\n",
       "count   991.00000  9.910000e+02    988.000000  990.000000  991.000000   \n",
       "mean    496.00000  1.569232e+07    648.512146   38.684848    5.066599   \n",
       "std     286.22136  7.223333e+04     98.202853   10.958220    2.928371   \n",
       "min       1.00000  1.556609e+07    376.000000    2.000000    0.000000   \n",
       "25%     248.50000  1.563019e+07    579.750000   32.000000    2.000000   \n",
       "50%     496.00000  1.569275e+07    653.500000   37.000000    5.000000   \n",
       "75%     743.50000  1.575379e+07    721.000000   44.000000    8.000000   \n",
       "max     991.00000  1.581536e+07    850.000000   82.000000   10.000000   \n",
       "\n",
       "             Balance  NumOfProducts  HasCrCard?  IsActiveMember  \\\n",
       "count     991.000000     991.000000  991.000000      991.000000   \n",
       "mean    78002.718063       1.522704    0.706357        0.507568   \n",
       "std     62799.237345       0.573170    0.455660        0.500195   \n",
       "min         0.000000       1.000000    0.000000        0.000000   \n",
       "25%         0.000000       1.000000    0.000000        0.000000   \n",
       "50%     98668.180000       1.000000    1.000000        1.000000   \n",
       "75%    129461.850000       2.000000    1.000000        1.000000   \n",
       "max    213146.200000       4.000000    1.000000        1.000000   \n",
       "\n",
       "       Estimated Salary  ExitedFromBank?  \n",
       "count        989.000000       991.000000  \n",
       "mean       98574.543013         0.205853  \n",
       "std        57224.716446         0.404527  \n",
       "min          371.050000         0.000000  \n",
       "25%        48559.190000         0.000000  \n",
       "50%        98368.240000         0.000000  \n",
       "75%       146326.450000         0.000000  \n",
       "max       199725.390000         1.000000  "
      ]
     },
     "execution_count": 7,
     "metadata": {},
     "output_type": "execute_result"
    }
   ],
   "source": [
    "# Checking statistics\n",
    "Data.describe()"
   ]
  },
  {
   "cell_type": "code",
   "execution_count": 8,
   "id": "d9980aeb",
   "metadata": {},
   "outputs": [],
   "source": [
    "# Rename column HasCrCard? to HasCreditCard?\n",
    "Data.rename(columns={'HasCrCard?' : 'HasCreditCard?'}, inplace = True)"
   ]
  },
  {
   "cell_type": "code",
   "execution_count": 9,
   "id": "45564fd9",
   "metadata": {},
   "outputs": [],
   "source": [
    "# Dropping Column Row_number and Last name\n",
    "Data_1 = Data.drop(columns = ['Row_Number', 'Last_Name'])"
   ]
  },
  {
   "cell_type": "code",
   "execution_count": 10,
   "id": "601e8b82",
   "metadata": {},
   "outputs": [
    {
     "data": {
      "text/plain": [
       "Customer_ID         0\n",
       "Credit Score        3\n",
       "Country             0\n",
       "Gender              1\n",
       "Age                 1\n",
       "Tenure              0\n",
       "Balance             0\n",
       "NumOfProducts       0\n",
       "HasCreditCard?      0\n",
       "IsActiveMember      0\n",
       "Estimated Salary    2\n",
       "ExitedFromBank?     0\n",
       "dtype: int64"
      ]
     },
     "execution_count": 10,
     "metadata": {},
     "output_type": "execute_result"
    }
   ],
   "source": [
    "# Finding the Missing values in the Dataframe\n",
    "Data_1.isnull().sum()"
   ]
  },
  {
   "cell_type": "code",
   "execution_count": 11,
   "id": "545fd9f4",
   "metadata": {},
   "outputs": [
    {
     "data": {
      "text/plain": [
       "Customer_ID           int64\n",
       "Credit Score        float64\n",
       "Country              object\n",
       "Gender               object\n",
       "Age                 float64\n",
       "Tenure                int64\n",
       "Balance             float64\n",
       "NumOfProducts         int64\n",
       "HasCreditCard?        int64\n",
       "IsActiveMember        int64\n",
       "Estimated Salary    float64\n",
       "ExitedFromBank?       int64\n",
       "dtype: object"
      ]
     },
     "execution_count": 11,
     "metadata": {},
     "output_type": "execute_result"
    }
   ],
   "source": [
    "# Checking the Data types\n",
    "Data_1.dtypes"
   ]
  },
  {
   "cell_type": "code",
   "execution_count": 12,
   "id": "a2bee8d1",
   "metadata": {},
   "outputs": [],
   "source": [
    "# Changing Data type of Customer_ID in Data_1\n",
    "Data_1['Customer_ID'] = Data_1['Customer_ID'].astype('str')"
   ]
  },
  {
   "cell_type": "code",
   "execution_count": 13,
   "id": "3fddb7f6",
   "metadata": {},
   "outputs": [
    {
     "data": {
      "text/plain": [
       "dtype('O')"
      ]
     },
     "execution_count": 13,
     "metadata": {},
     "output_type": "execute_result"
    }
   ],
   "source": [
    "Data_1['Customer_ID'].dtype"
   ]
  },
  {
   "cell_type": "code",
   "execution_count": 14,
   "id": "d3373689",
   "metadata": {},
   "outputs": [],
   "source": [
    "# Changing Data type of HasCreditCard?, IsActiveMember, ExitedFromBank? in Data_1\n",
    "Data_1[['HasCreditCard?','IsActiveMember','ExitedFromBank?']] = Data_1[['HasCreditCard?','IsActiveMember','ExitedFromBank?']].astype('str')"
   ]
  },
  {
   "cell_type": "code",
   "execution_count": 15,
   "id": "ba089778",
   "metadata": {},
   "outputs": [
    {
     "data": {
      "text/plain": [
       "Customer_ID          object\n",
       "Credit Score        float64\n",
       "Country              object\n",
       "Gender               object\n",
       "Age                 float64\n",
       "Tenure                int64\n",
       "Balance             float64\n",
       "NumOfProducts         int64\n",
       "HasCreditCard?       object\n",
       "IsActiveMember       object\n",
       "Estimated Salary    float64\n",
       "ExitedFromBank?      object\n",
       "dtype: object"
      ]
     },
     "execution_count": 15,
     "metadata": {},
     "output_type": "execute_result"
    }
   ],
   "source": [
    "Data_1.dtypes"
   ]
  },
  {
   "cell_type": "code",
   "execution_count": 16,
   "id": "d6b68829",
   "metadata": {},
   "outputs": [
    {
     "name": "stdout",
     "output_type": "stream",
     "text": [
      "Column ExitedFromBank? has mixed data type\n"
     ]
    }
   ],
   "source": [
    "# Check for the mixed data types\n",
    "for col in Data_1.columns.tolist():\n",
    "  weird = Data_1[[col]].applymap(type) != Data_1[[col]].iloc[0].apply(type).any()\n",
    "if len (Data_1[weird]) > 0:\n",
    "    print (\"Column \" + col + \" has mixed data type\")\n",
    "else:\n",
    "    print (\"No columns with mixed datatype\")"
   ]
  },
  {
   "cell_type": "code",
   "execution_count": 17,
   "id": "01642828",
   "metadata": {},
   "outputs": [
    {
     "data": {
      "text/plain": [
       "array(['1', '0'], dtype=object)"
      ]
     },
     "execution_count": 17,
     "metadata": {},
     "output_type": "execute_result"
    }
   ],
   "source": [
    "#checking the values in the mixed data type column\n",
    "Data_1['ExitedFromBank?'].unique()"
   ]
  },
  {
   "cell_type": "markdown",
   "id": "88f29ac0",
   "metadata": {},
   "source": [
    "Since the values are only 0 and 1, we will leave as it is"
   ]
  },
  {
   "cell_type": "code",
   "execution_count": 18,
   "id": "a3c89eb0",
   "metadata": {},
   "outputs": [],
   "source": [
    "# Finding Duplicates\n",
    "Data_1_dups = Data_1[Data_1.duplicated()]"
   ]
  },
  {
   "cell_type": "code",
   "execution_count": 19,
   "id": "d8af1ebb",
   "metadata": {},
   "outputs": [
    {
     "data": {
      "text/html": [
       "<div>\n",
       "<style scoped>\n",
       "    .dataframe tbody tr th:only-of-type {\n",
       "        vertical-align: middle;\n",
       "    }\n",
       "\n",
       "    .dataframe tbody tr th {\n",
       "        vertical-align: top;\n",
       "    }\n",
       "\n",
       "    .dataframe thead th {\n",
       "        text-align: right;\n",
       "    }\n",
       "</style>\n",
       "<table border=\"1\" class=\"dataframe\">\n",
       "  <thead>\n",
       "    <tr style=\"text-align: right;\">\n",
       "      <th></th>\n",
       "      <th>Customer_ID</th>\n",
       "      <th>Credit Score</th>\n",
       "      <th>Country</th>\n",
       "      <th>Gender</th>\n",
       "      <th>Age</th>\n",
       "      <th>Tenure</th>\n",
       "      <th>Balance</th>\n",
       "      <th>NumOfProducts</th>\n",
       "      <th>HasCreditCard?</th>\n",
       "      <th>IsActiveMember</th>\n",
       "      <th>Estimated Salary</th>\n",
       "      <th>ExitedFromBank?</th>\n",
       "    </tr>\n",
       "  </thead>\n",
       "  <tbody>\n",
       "  </tbody>\n",
       "</table>\n",
       "</div>"
      ],
      "text/plain": [
       "Empty DataFrame\n",
       "Columns: [Customer_ID, Credit Score, Country, Gender, Age, Tenure, Balance, NumOfProducts, HasCreditCard?, IsActiveMember, Estimated Salary, ExitedFromBank?]\n",
       "Index: []"
      ]
     },
     "execution_count": 19,
     "metadata": {},
     "output_type": "execute_result"
    }
   ],
   "source": [
    "Data_1_dups"
   ]
  },
  {
   "cell_type": "markdown",
   "id": "f8a2c1b8",
   "metadata": {},
   "source": [
    "There are no duplicate in the dataframe"
   ]
  },
  {
   "cell_type": "code",
   "execution_count": 20,
   "id": "2c0f9151",
   "metadata": {},
   "outputs": [
    {
     "data": {
      "text/plain": [
       "array(['France', 'Spain', 'Germany', 'FR', 'ES', 'DE'], dtype=object)"
      ]
     },
     "execution_count": 20,
     "metadata": {},
     "output_type": "execute_result"
    }
   ],
   "source": [
    "# Checking the Country columns values\n",
    "Data_1['Country'].unique()"
   ]
  },
  {
   "cell_type": "code",
   "execution_count": 21,
   "id": "d7a06ad0",
   "metadata": {},
   "outputs": [],
   "source": [
    "# In Country Column Replacing FR as France, Es as Spain and De as Germany\n",
    "Data_1['Country'].replace({'FR': 'France', 'ES': 'Spain', 'DE': 'Germany'}, inplace=True)"
   ]
  },
  {
   "cell_type": "code",
   "execution_count": 22,
   "id": "b2ae8aa9",
   "metadata": {},
   "outputs": [
    {
     "data": {
      "text/plain": [
       "array(['Female', 'Male', nan, 'M', 'F'], dtype=object)"
      ]
     },
     "execution_count": 22,
     "metadata": {},
     "output_type": "execute_result"
    }
   ],
   "source": [
    " # Checking the Gender columns values\n",
    "Data_1['Gender'].unique()"
   ]
  },
  {
   "cell_type": "code",
   "execution_count": 23,
   "id": "9f452962",
   "metadata": {},
   "outputs": [],
   "source": [
    "# In gender column Replacing M as Male,F as Female and nan to Unknown\n",
    "Data_1['Gender'].replace({'F': 'Female', 'M': 'Male', 'nan': 'Unknown'}, inplace = True)"
   ]
  },
  {
   "cell_type": "code",
   "execution_count": 24,
   "id": "b336e452",
   "metadata": {},
   "outputs": [],
   "source": [
    "Data_1['Age'].replace({ 2: np.nan}, inplace = True)"
   ]
  },
  {
   "cell_type": "code",
   "execution_count": 25,
   "id": "e8cfb609",
   "metadata": {},
   "outputs": [
    {
     "data": {
      "text/plain": [
       "(991, 12)"
      ]
     },
     "execution_count": 25,
     "metadata": {},
     "output_type": "execute_result"
    }
   ],
   "source": [
    "Data_1.shape"
   ]
  },
  {
   "cell_type": "code",
   "execution_count": 26,
   "id": "f329ee89",
   "metadata": {},
   "outputs": [
    {
     "data": {
      "text/plain": [
       "12"
      ]
     },
     "execution_count": 26,
     "metadata": {},
     "output_type": "execute_result"
    }
   ],
   "source": [
    "Data_1['Age'].isnull().sum()"
   ]
  },
  {
   "cell_type": "code",
   "execution_count": 27,
   "id": "058e70af",
   "metadata": {},
   "outputs": [],
   "source": [
    "# Export Clean Data\n",
    "Data_1.to_excel(os.path.join(path, '5.4-PigEBank-Client_cleaned-Data set.xlsx'))"
   ]
  },
  {
   "cell_type": "code",
   "execution_count": 28,
   "id": "32b7d2ab",
   "metadata": {},
   "outputs": [],
   "source": [
    "df1 = Data_1.loc[Data_1['ExitedFromBank?'] == '1'] # Clints who exited from the bank."
   ]
  },
  {
   "cell_type": "code",
   "execution_count": 32,
   "id": "19e4bc86",
   "metadata": {},
   "outputs": [
    {
     "data": {
      "text/html": [
       "<div>\n",
       "<style scoped>\n",
       "    .dataframe tbody tr th:only-of-type {\n",
       "        vertical-align: middle;\n",
       "    }\n",
       "\n",
       "    .dataframe tbody tr th {\n",
       "        vertical-align: top;\n",
       "    }\n",
       "\n",
       "    .dataframe thead th {\n",
       "        text-align: right;\n",
       "    }\n",
       "</style>\n",
       "<table border=\"1\" class=\"dataframe\">\n",
       "  <thead>\n",
       "    <tr style=\"text-align: right;\">\n",
       "      <th></th>\n",
       "      <th>Credit Score</th>\n",
       "      <th>Age</th>\n",
       "      <th>Tenure</th>\n",
       "      <th>Balance</th>\n",
       "      <th>NumOfProducts</th>\n",
       "      <th>Estimated Salary</th>\n",
       "    </tr>\n",
       "  </thead>\n",
       "  <tbody>\n",
       "    <tr>\n",
       "      <th>count</th>\n",
       "      <td>203.000000</td>\n",
       "      <td>202.000000</td>\n",
       "      <td>204.000000</td>\n",
       "      <td>204.000000</td>\n",
       "      <td>204.000000</td>\n",
       "      <td>204.000000</td>\n",
       "    </tr>\n",
       "    <tr>\n",
       "      <th>mean</th>\n",
       "      <td>636.512315</td>\n",
       "      <td>45.277228</td>\n",
       "      <td>4.715686</td>\n",
       "      <td>90239.218873</td>\n",
       "      <td>1.460784</td>\n",
       "      <td>97155.204608</td>\n",
       "    </tr>\n",
       "    <tr>\n",
       "      <th>std</th>\n",
       "      <td>99.871767</td>\n",
       "      <td>9.578810</td>\n",
       "      <td>2.915484</td>\n",
       "      <td>61352.066625</td>\n",
       "      <td>0.764632</td>\n",
       "      <td>59537.153259</td>\n",
       "    </tr>\n",
       "    <tr>\n",
       "      <th>min</th>\n",
       "      <td>376.000000</td>\n",
       "      <td>22.000000</td>\n",
       "      <td>0.000000</td>\n",
       "      <td>0.000000</td>\n",
       "      <td>1.000000</td>\n",
       "      <td>417.410000</td>\n",
       "    </tr>\n",
       "    <tr>\n",
       "      <th>25%</th>\n",
       "      <td>561.500000</td>\n",
       "      <td>39.000000</td>\n",
       "      <td>2.000000</td>\n",
       "      <td>0.000000</td>\n",
       "      <td>1.000000</td>\n",
       "      <td>44685.167500</td>\n",
       "    </tr>\n",
       "    <tr>\n",
       "      <th>50%</th>\n",
       "      <td>643.000000</td>\n",
       "      <td>45.000000</td>\n",
       "      <td>5.000000</td>\n",
       "      <td>112433.965000</td>\n",
       "      <td>1.000000</td>\n",
       "      <td>100375.400000</td>\n",
       "    </tr>\n",
       "    <tr>\n",
       "      <th>75%</th>\n",
       "      <td>714.500000</td>\n",
       "      <td>51.000000</td>\n",
       "      <td>7.000000</td>\n",
       "      <td>133713.527500</td>\n",
       "      <td>2.000000</td>\n",
       "      <td>148291.382500</td>\n",
       "    </tr>\n",
       "    <tr>\n",
       "      <th>max</th>\n",
       "      <td>850.000000</td>\n",
       "      <td>69.000000</td>\n",
       "      <td>10.000000</td>\n",
       "      <td>213146.200000</td>\n",
       "      <td>4.000000</td>\n",
       "      <td>199725.390000</td>\n",
       "    </tr>\n",
       "  </tbody>\n",
       "</table>\n",
       "</div>"
      ],
      "text/plain": [
       "       Credit Score         Age      Tenure        Balance  NumOfProducts  \\\n",
       "count    203.000000  202.000000  204.000000     204.000000     204.000000   \n",
       "mean     636.512315   45.277228    4.715686   90239.218873       1.460784   \n",
       "std       99.871767    9.578810    2.915484   61352.066625       0.764632   \n",
       "min      376.000000   22.000000    0.000000       0.000000       1.000000   \n",
       "25%      561.500000   39.000000    2.000000       0.000000       1.000000   \n",
       "50%      643.000000   45.000000    5.000000  112433.965000       1.000000   \n",
       "75%      714.500000   51.000000    7.000000  133713.527500       2.000000   \n",
       "max      850.000000   69.000000   10.000000  213146.200000       4.000000   \n",
       "\n",
       "       Estimated Salary  \n",
       "count        204.000000  \n",
       "mean       97155.204608  \n",
       "std        59537.153259  \n",
       "min          417.410000  \n",
       "25%        44685.167500  \n",
       "50%       100375.400000  \n",
       "75%       148291.382500  \n",
       "max       199725.390000  "
      ]
     },
     "execution_count": 32,
     "metadata": {},
     "output_type": "execute_result"
    }
   ],
   "source": [
    "df1.describe()"
   ]
  },
  {
   "cell_type": "code",
   "execution_count": 29,
   "id": "439287a6",
   "metadata": {},
   "outputs": [],
   "source": [
    "df2 = Data_1.loc[Data_1['ExitedFromBank?'] == '0'] # Client who stayedd in the bank."
   ]
  },
  {
   "cell_type": "code",
   "execution_count": 33,
   "id": "7f5978f3",
   "metadata": {},
   "outputs": [
    {
     "data": {
      "text/html": [
       "<div>\n",
       "<style scoped>\n",
       "    .dataframe tbody tr th:only-of-type {\n",
       "        vertical-align: middle;\n",
       "    }\n",
       "\n",
       "    .dataframe tbody tr th {\n",
       "        vertical-align: top;\n",
       "    }\n",
       "\n",
       "    .dataframe thead th {\n",
       "        text-align: right;\n",
       "    }\n",
       "</style>\n",
       "<table border=\"1\" class=\"dataframe\">\n",
       "  <thead>\n",
       "    <tr style=\"text-align: right;\">\n",
       "      <th></th>\n",
       "      <th>Credit Score</th>\n",
       "      <th>Age</th>\n",
       "      <th>Tenure</th>\n",
       "      <th>Balance</th>\n",
       "      <th>NumOfProducts</th>\n",
       "      <th>Estimated Salary</th>\n",
       "    </tr>\n",
       "  </thead>\n",
       "  <tbody>\n",
       "    <tr>\n",
       "      <th>count</th>\n",
       "      <td>785.000000</td>\n",
       "      <td>777.000000</td>\n",
       "      <td>787.000000</td>\n",
       "      <td>787.000000</td>\n",
       "      <td>787.000000</td>\n",
       "      <td>785.000000</td>\n",
       "    </tr>\n",
       "    <tr>\n",
       "      <th>mean</th>\n",
       "      <td>651.615287</td>\n",
       "      <td>37.490347</td>\n",
       "      <td>5.157560</td>\n",
       "      <td>74830.867789</td>\n",
       "      <td>1.538755</td>\n",
       "      <td>98943.390191</td>\n",
       "    </tr>\n",
       "    <tr>\n",
       "      <th>std</th>\n",
       "      <td>97.590995</td>\n",
       "      <td>9.872132</td>\n",
       "      <td>2.926683</td>\n",
       "      <td>62819.020794</td>\n",
       "      <td>0.511407</td>\n",
       "      <td>56641.616953</td>\n",
       "    </tr>\n",
       "    <tr>\n",
       "      <th>min</th>\n",
       "      <td>411.000000</td>\n",
       "      <td>18.000000</td>\n",
       "      <td>0.000000</td>\n",
       "      <td>0.000000</td>\n",
       "      <td>1.000000</td>\n",
       "      <td>371.050000</td>\n",
       "    </tr>\n",
       "    <tr>\n",
       "      <th>25%</th>\n",
       "      <td>583.000000</td>\n",
       "      <td>31.000000</td>\n",
       "      <td>3.000000</td>\n",
       "      <td>0.000000</td>\n",
       "      <td>1.000000</td>\n",
       "      <td>51219.800000</td>\n",
       "    </tr>\n",
       "    <tr>\n",
       "      <th>50%</th>\n",
       "      <td>657.000000</td>\n",
       "      <td>36.000000</td>\n",
       "      <td>5.000000</td>\n",
       "      <td>93147.000000</td>\n",
       "      <td>2.000000</td>\n",
       "      <td>98301.610000</td>\n",
       "    </tr>\n",
       "    <tr>\n",
       "      <th>75%</th>\n",
       "      <td>723.000000</td>\n",
       "      <td>42.000000</td>\n",
       "      <td>8.000000</td>\n",
       "      <td>127817.875000</td>\n",
       "      <td>2.000000</td>\n",
       "      <td>145936.280000</td>\n",
       "    </tr>\n",
       "    <tr>\n",
       "      <th>max</th>\n",
       "      <td>850.000000</td>\n",
       "      <td>82.000000</td>\n",
       "      <td>10.000000</td>\n",
       "      <td>197041.800000</td>\n",
       "      <td>3.000000</td>\n",
       "      <td>199661.500000</td>\n",
       "    </tr>\n",
       "  </tbody>\n",
       "</table>\n",
       "</div>"
      ],
      "text/plain": [
       "       Credit Score         Age      Tenure        Balance  NumOfProducts  \\\n",
       "count    785.000000  777.000000  787.000000     787.000000     787.000000   \n",
       "mean     651.615287   37.490347    5.157560   74830.867789       1.538755   \n",
       "std       97.590995    9.872132    2.926683   62819.020794       0.511407   \n",
       "min      411.000000   18.000000    0.000000       0.000000       1.000000   \n",
       "25%      583.000000   31.000000    3.000000       0.000000       1.000000   \n",
       "50%      657.000000   36.000000    5.000000   93147.000000       2.000000   \n",
       "75%      723.000000   42.000000    8.000000  127817.875000       2.000000   \n",
       "max      850.000000   82.000000   10.000000  197041.800000       3.000000   \n",
       "\n",
       "       Estimated Salary  \n",
       "count        785.000000  \n",
       "mean       98943.390191  \n",
       "std        56641.616953  \n",
       "min          371.050000  \n",
       "25%        51219.800000  \n",
       "50%        98301.610000  \n",
       "75%       145936.280000  \n",
       "max       199661.500000  "
      ]
     },
     "execution_count": 33,
     "metadata": {},
     "output_type": "execute_result"
    }
   ],
   "source": [
    "df2.describe()"
   ]
  },
  {
   "cell_type": "code",
   "execution_count": 30,
   "id": "24af4659",
   "metadata": {},
   "outputs": [],
   "source": [
    " #Copying the df1 data to Excel\n",
    "df1.to_clipboard()"
   ]
  },
  {
   "cell_type": "code",
   "execution_count": 31,
   "id": "04cd0315",
   "metadata": {},
   "outputs": [],
   "source": [
    " #Copying the df2 data to Excel\n",
    "df2.to_clipboard()"
   ]
  },
  {
   "cell_type": "code",
   "execution_count": null,
   "id": "5ac70a65",
   "metadata": {},
   "outputs": [],
   "source": []
  }
 ],
 "metadata": {
  "kernelspec": {
   "display_name": "Python 3 (ipykernel)",
   "language": "python",
   "name": "python3"
  },
  "language_info": {
   "codemirror_mode": {
    "name": "ipython",
    "version": 3
   },
   "file_extension": ".py",
   "mimetype": "text/x-python",
   "name": "python",
   "nbconvert_exporter": "python",
   "pygments_lexer": "ipython3",
   "version": "3.9.13"
  }
 },
 "nbformat": 4,
 "nbformat_minor": 5
}
